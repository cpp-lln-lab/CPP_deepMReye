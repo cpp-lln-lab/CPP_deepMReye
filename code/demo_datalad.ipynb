{
 "cells": [
  {
   "cell_type": "code",
   "execution_count": 1,
   "id": "0923f211-4257-4f41-b5cd-3c97dc7432b3",
   "metadata": {},
   "outputs": [],
   "source": [
    "from datalad.api import install, Dataset"
   ]
  },
  {
   "cell_type": "code",
   "execution_count": 2,
   "id": "34dd8f50-e201-426c-993f-eb0007320df5",
   "metadata": {},
   "outputs": [],
   "source": [
    "experiment_folder = \"../inputs/rest_blnd_can_fmriprep/\""
   ]
  },
  {
   "cell_type": "code",
   "execution_count": 3,
   "id": "8c08b535-ce92-4e97-a06a-4d2d5c5a3884",
   "metadata": {},
   "outputs": [],
   "source": [
    "ds = Dataset(experiment_folder)"
   ]
  },
  {
   "cell_type": "code",
   "execution_count": 5,
   "id": "192574a5-4eda-4624-b269-6764197535cb",
   "metadata": {},
   "outputs": [
    {
     "data": {
      "text/plain": [
       "[{'type': 'file',\n",
       "  'refds': '/home/remi/github/CPP_deepMReye/inputs/rest_blnd_can_fmriprep',\n",
       "  'status': 'ok',\n",
       "  'path': '/home/remi/github/CPP_deepMReye/inputs/rest_blnd_can_fmriprep/sub-lb03/func/sub-lb03_task-rest_space-MNI152NLin2009cAsym_desc-preproc_bold.nii.gz',\n",
       "  'action': 'get',\n",
       "  'annexkey': 'MD5E-s46007485--46fd58422717e7a8f1b9e8352bad9cf9.nii.gz',\n",
       "  'message': 'from origin...'}]"
      ]
     },
     "execution_count": 5,
     "metadata": {},
     "output_type": "execute_result"
    }
   ],
   "source": [
    "ds.get(\"sub-lb03/func/sub-lb03_task-rest_space-MNI152NLin2009cAsym_desc-preproc_bold.nii.gz\")"
   ]
  }
 ],
 "metadata": {
  "kernelspec": {
   "display_name": "Python 3",
   "language": "python",
   "name": "python3"
  },
  "language_info": {
   "codemirror_mode": {
    "name": "ipython",
    "version": 3
   },
   "file_extension": ".py",
   "mimetype": "text/x-python",
   "name": "python",
   "nbconvert_exporter": "python",
   "pygments_lexer": "ipython3",
   "version": "3.8.0"
  }
 },
 "nbformat": 4,
 "nbformat_minor": 5
}
