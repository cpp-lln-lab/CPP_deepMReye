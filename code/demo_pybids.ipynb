{
 "cells": [
  {
   "cell_type": "code",
   "execution_count": 2,
   "id": "72be41ec-daeb-4bef-bae3-47b201981e09",
   "metadata": {},
   "outputs": [],
   "source": [
    "from bids import BIDSLayout\n",
    "\n",
    "# Autoreload modules\n",
    "%load_ext autoreload\n",
    "%autoreload 2"
   ]
  },
  {
   "cell_type": "code",
   "execution_count": 3,
   "id": "eb611ac0-c7c1-4e9e-8055-0439c11fc3cc",
   "metadata": {},
   "outputs": [],
   "source": [
    "experiment_folder = \"../inputs/rest_blnd_can_fmriprep/\"\n",
    "task = \"rest\"\n",
    "suffix=\"bold\"\n",
    "extension='nii.gz'\n",
    "space=\"MNI152NLin2009cAsym\"\n",
    "\n",
    "debug = True"
   ]
  },
  {
   "cell_type": "code",
   "execution_count": 4,
   "id": "64b47a71-9bc6-426b-b446-7e78cdab0196",
   "metadata": {},
   "outputs": [],
   "source": [
    "layout = BIDSLayout(experiment_folder, validate=False, derivatives=False)"
   ]
  },
  {
   "cell_type": "code",
   "execution_count": 9,
   "id": "5876bd19-adc5-4316-864f-096a0976ad0c",
   "metadata": {
    "tags": []
   },
   "outputs": [
    {
     "name": "stdout",
     "output_type": "stream",
     "text": [
      "sclb09\n",
      "[]\n",
      "/home/remi/github/CPP_deepMReye/code/../inputs/rest_blnd_can_fmriprep/sub-sclb09/func/sub-sclb09_task-rest_space-MNI152NLin2009cAsym_desc-preproc_bold.nii.gz\n"
     ]
    }
   ],
   "source": [
    "subjects = layout.get(return_type='id', target='subject')\n",
    "\n",
    "if debug:\n",
    "    subjects = [subjects[0]]\n",
    "    \n",
    "for sub in subjects:\n",
    "    print(sub)\n",
    "    runs = layout.get(return_type='id', target='run')\n",
    "    print(runs)\n",
    "    bf = layout.get(return_type='filename', subject=sub, suffix=suffix, task=task, extension=extension, space=space)\n",
    "    for i, img in enumerate(bf):\n",
    "        print(img)"
   ]
  }
 ],
 "metadata": {
  "kernelspec": {
   "display_name": "Python 3",
   "language": "python",
   "name": "python3"
  },
  "language_info": {
   "codemirror_mode": {
    "name": "ipython",
    "version": 3
   },
   "file_extension": ".py",
   "mimetype": "text/x-python",
   "name": "python",
   "nbconvert_exporter": "python",
   "pygments_lexer": "ipython3",
   "version": "3.8.0"
  }
 },
 "nbformat": 4,
 "nbformat_minor": 5
}
