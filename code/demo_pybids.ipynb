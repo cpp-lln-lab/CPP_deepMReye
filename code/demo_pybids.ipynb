{
 "cells": [
  {
   "cell_type": "code",
   "execution_count": 1,
   "id": "72be41ec-daeb-4bef-bae3-47b201981e09",
   "metadata": {},
   "outputs": [],
   "source": [
    "from bids import BIDSLayout\n",
    "\n",
    "# Autoreload modules\n",
    "%load_ext autoreload\n",
    "%autoreload 2\n",
    "\n",
    "# lint with black\n",
    "%load_ext lab_black"
   ]
  },
  {
   "cell_type": "code",
   "execution_count": 2,
   "id": "eb611ac0-c7c1-4e9e-8055-0439c11fc3cc",
   "metadata": {},
   "outputs": [],
   "source": [
    "experiment_folder = \"../inputs/rest_blnd_can_fmriprep/\"\n",
    "task = \"rest\"\n",
    "suffix = \"^bold$\"\n",
    "space = \"MNI152NLin2009cAsym\"\n",
    "\n",
    "debug = True"
   ]
  },
  {
   "cell_type": "code",
   "execution_count": 75,
   "id": "64b47a71-9bc6-426b-b446-7e78cdab0196",
   "metadata": {},
   "outputs": [],
   "source": [
    "layout = BIDSLayout(\n",
    "    experiment_folder, validate=False, derivatives=False, regex_search=True\n",
    ")"
   ]
  },
  {
   "cell_type": "code",
   "execution_count": 76,
   "id": "69de4a96-f702-4593-a339-aa222d489e03",
   "metadata": {},
   "outputs": [
    {
     "name": "stdout",
     "output_type": "stream",
     "text": [
      "{'Name': 'fMRIPrep - fMRI PREProcessing workflow', 'BIDSVersion': '1.4.0', 'DatasetType': 'derivative', 'GeneratedBy': [{'Name': 'fMRIPrep', 'Version': '20.2.1', 'CodeURL': 'https://github.com/nipreps/fmriprep/archive/20.2.1.tar.gz'}], 'HowToAcknowledge': 'Please cite our paper (https://doi.org/10.1038/s41592-018-0235-4), and include the generated citation boilerplate within the Methods section of the text.', 'SourceDatasets': [{'URL': 'https://doi.org/', 'DOI': ''}], 'License': 'CC0'}\n"
     ]
    },
    {
     "ename": "Exception",
     "evalue": "WTF",
     "output_type": "error",
     "traceback": [
      "\u001b[0;31m---------------------------------------------------------------------------\u001b[0m",
      "\u001b[0;31mException\u001b[0m                                 Traceback (most recent call last)",
      "\u001b[0;32m/tmp/ipykernel_15258/4158173221.py\u001b[0m in \u001b[0;36m<module>\u001b[0;34m\u001b[0m\n\u001b[1;32m      2\u001b[0m \u001b[0mprint\u001b[0m\u001b[0;34m(\u001b[0m\u001b[0mdesc\u001b[0m\u001b[0;34m)\u001b[0m\u001b[0;34m\u001b[0m\u001b[0;34m\u001b[0m\u001b[0m\n\u001b[1;32m      3\u001b[0m \u001b[0;32mif\u001b[0m \u001b[0mdesc\u001b[0m\u001b[0;34m[\u001b[0m\u001b[0;34m\"DatasetType\"\u001b[0m\u001b[0;34m]\u001b[0m \u001b[0;34m==\u001b[0m \u001b[0;34m\"derivative\"\u001b[0m\u001b[0;34m:\u001b[0m\u001b[0;34m\u001b[0m\u001b[0;34m\u001b[0m\u001b[0m\n\u001b[0;32m----> 4\u001b[0;31m     \u001b[0;32mraise\u001b[0m \u001b[0mException\u001b[0m\u001b[0;34m(\u001b[0m\u001b[0;34m\"WTF\"\u001b[0m\u001b[0;34m)\u001b[0m\u001b[0;34m\u001b[0m\u001b[0;34m\u001b[0m\u001b[0m\n\u001b[0m",
      "\u001b[0;31mException\u001b[0m: WTF"
     ]
    }
   ],
   "source": [
    "desc = layout.get_dataset_description()\n",
    "print(desc)\n",
    "if desc[\"DatasetType\"] == \"derivative\":\n",
    "    raise Exception(\"WTF\")"
   ]
  },
  {
   "cell_type": "code",
   "execution_count": 90,
   "id": "035a8161-9d70-4d92-9959-67a6ffea045f",
   "metadata": {
    "tags": []
   },
   "outputs": [
    {
     "data": {
      "text/plain": [
       "'sub-cb01_task-rest_space-MNI152NLin2009cAsym_desc-preproc_bold.nii.gz'"
      ]
     },
     "execution_count": 90,
     "metadata": {},
     "output_type": "execute_result"
    }
   ],
   "source": [
    "bf = layout.get(\n",
    "    task=task,\n",
    "    space=space,\n",
    "    suffix=\"^bold$\",\n",
    "    extension=\"nii.*\",\n",
    "    regex_search=True,\n",
    ")\n",
    "f = bf[0].filename\n",
    "f"
   ]
  },
  {
   "cell_type": "code",
   "execution_count": 13,
   "id": "13a90181-7840-45db-8258-78dc8241fc6a",
   "metadata": {},
   "outputs": [
    {
     "data": {
      "text/plain": [
       "['rest']"
      ]
     },
     "execution_count": 13,
     "metadata": {},
     "output_type": "execute_result"
    }
   ],
   "source": [
    "layout.get_tasks()"
   ]
  },
  {
   "cell_type": "code",
   "execution_count": 14,
   "id": "b085da31-2e65-41f8-8338-a19a21d47792",
   "metadata": {
    "collapsed": true,
    "jupyter": {
     "outputs_hidden": true
    },
    "tags": []
   },
   "outputs": [
    {
     "data": {
      "text/plain": [
       "['sclb01',\n",
       " 'sccb02',\n",
       " 'lb02',\n",
       " 'cb14',\n",
       " 'cb10',\n",
       " 'lb01',\n",
       " 'sccb03',\n",
       " 'cb12',\n",
       " 'lb11',\n",
       " 'cb01',\n",
       " 'sclb06',\n",
       " 'lb10',\n",
       " 'sccb10',\n",
       " 'sccb13',\n",
       " 'cb02',\n",
       " 'cb08',\n",
       " 'lb06',\n",
       " 'sccb01',\n",
       " 'cb05',\n",
       " 'sclb02',\n",
       " 'sclb11',\n",
       " 'sclb08',\n",
       " 'lb05',\n",
       " 'lb07',\n",
       " 'sccb08',\n",
       " 'cb06',\n",
       " 'sclb07',\n",
       " 'sclb05',\n",
       " 'cb11',\n",
       " 'sclb09',\n",
       " 'sclb03',\n",
       " 'cb13',\n",
       " 'sccb07',\n",
       " 'sccb09',\n",
       " 'sccb14',\n",
       " 'sccb05',\n",
       " 'cb09',\n",
       " 'sccb06',\n",
       " 'lb03',\n",
       " 'sccb12',\n",
       " 'cb04',\n",
       " 'sclb10',\n",
       " 'lb09',\n",
       " 'cb03',\n",
       " 'sclb04',\n",
       " 'lb04',\n",
       " 'sccb11',\n",
       " 'sccb04',\n",
       " 'lb08',\n",
       " 'cb07']"
      ]
     },
     "execution_count": 14,
     "metadata": {},
     "output_type": "execute_result"
    }
   ],
   "source": [
    "layout.get_subjects()"
   ]
  },
  {
   "cell_type": "code",
   "execution_count": 50,
   "id": "2e9c8bb3-348d-4dff-ab07-c6f8d4fce0a1",
   "metadata": {
    "tags": []
   },
   "outputs": [
    {
     "data": {
      "text/plain": [
       "'/home/remi/github/CPP_deepMReye/code/../inputs/rest_blnd_can_fmriprep/sub-cb14/func/sub-cb14_task-rest_space-MNI152NLin2009cAsym_desc-preproc_bold.nii.gz'"
      ]
     },
     "execution_count": 50,
     "metadata": {},
     "output_type": "execute_result"
    }
   ],
   "source": [
    "extension = \"nii.*\"\n",
    "bf = layout.get(\n",
    "    subject=\"^cb14$\",\n",
    "    suffix=suffix,\n",
    "    task=task,\n",
    "    extension=extension,\n",
    "    space=space,\n",
    "    regex_search=True,\n",
    ")\n",
    "bf[0].filename\n",
    "bf[0].path"
   ]
  },
  {
   "cell_type": "code",
   "execution_count": 9,
   "id": "5876bd19-adc5-4316-864f-096a0976ad0c",
   "metadata": {
    "tags": []
   },
   "outputs": [
    {
     "name": "stdout",
     "output_type": "stream",
     "text": [
      "sclb09\n",
      "[]\n",
      "/home/remi/github/CPP_deepMReye/code/../inputs/rest_blnd_can_fmriprep/sub-sclb09/func/sub-sclb09_task-rest_space-MNI152NLin2009cAsym_desc-preproc_bold.nii.gz\n"
     ]
    }
   ],
   "source": [
    "subjects = layout.get(return_type='id', target='subject')\n",
    "\n",
    "if debug:\n",
    "    subjects = [subjects[0]]\n",
    "    \n",
    "for sub in subjects:\n",
    "    print(sub)\n",
    "    runs = layout.get(return_type='id', target='run')\n",
    "    print(runs)\n",
    "    bf = layout.get(return_type='filename', subject=sub, suffix=suffix, task=task, extension=extension, space=space)\n",
    "    for i, img in enumerate(bf):\n",
    "        print(img)"
   ]
  }
 ],
 "metadata": {
  "kernelspec": {
   "display_name": "Python 3",
   "language": "python",
   "name": "python3"
  },
  "language_info": {
   "codemirror_mode": {
    "name": "ipython",
    "version": 3
   },
   "file_extension": ".py",
   "mimetype": "text/x-python",
   "name": "python",
   "nbconvert_exporter": "python",
   "pygments_lexer": "ipython3",
   "version": "3.8.0"
  }
 },
 "nbformat": 4,
 "nbformat_minor": 5
}
